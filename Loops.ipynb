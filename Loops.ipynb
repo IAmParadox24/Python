{
 "cells": [
  {
   "cell_type": "markdown",
   "id": "ad96529b",
   "metadata": {},
   "source": [
    "## Master Class Session 2"
   ]
  },
  {
   "cell_type": "code",
   "execution_count": 30,
   "id": "de82445c",
   "metadata": {},
   "outputs": [
    {
     "name": "stdout",
     "output_type": "stream",
     "text": [
      "Enter your Number: 22.332\n",
      "The Number is Positive\n"
     ]
    }
   ],
   "source": [
    "Number = float(input(\"Enter your Number: \"))\n",
    "if Number > 0:\n",
    "    print(\"The Number is Positive\")\n",
    "elif Number < 0:\n",
    "    print(\"The Number is Negative\")\n",
    "else :\n",
    "    print(\"The Number is neither +ve nor -ve\")"
   ]
  },
  {
   "cell_type": "markdown",
   "id": "0a5991db",
   "metadata": {},
   "source": [
    "### Write a code to get marks input and display monuments"
   ]
  },
  {
   "cell_type": "code",
   "execution_count": 31,
   "id": "39d3cff3",
   "metadata": {},
   "outputs": [
    {
     "name": "stdout",
     "output_type": "stream",
     "text": [
      "Enter your marks: 90\n",
      "Your Grade is A+\n"
     ]
    }
   ],
   "source": [
    "Marks = float(input(\"Enter your marks: \"))\n",
    "if Marks>=90:\n",
    "    print(\"Your Grade is A+\")"
   ]
  },
  {
   "cell_type": "code",
   "execution_count": 32,
   "id": "bea8ccbb",
   "metadata": {},
   "outputs": [
    {
     "name": "stdout",
     "output_type": "stream",
     "text": [
      "What city you want to visit : Mumbai\n",
      "the city is not listed\n"
     ]
    }
   ],
   "source": [
    "city = input(\"What city you want to visit : \").lower()\n",
    "\n",
    "if city == \"delhi\":\n",
    "    print(\"The monument of the city : \", \"\\nRed Fort\",\"\\nIndia Gate\",\"\\nAkshardham\")\n",
    "elif city==\"agra\":\n",
    "    print(\"The monument of the city : \",\"\\nTaj Mahal\")\n",
    "elif city==\"jaipur\":\n",
    "    print(\"The monument of the city : \",\"\\n Jal Mahal\",\"\\nHawa Mahal\")\n",
    "else:\n",
    "    print(\"the city is not listed\")"
   ]
  },
  {
   "cell_type": "code",
   "execution_count": 35,
   "id": "30691622",
   "metadata": {},
   "outputs": [
    {
     "name": "stdout",
     "output_type": "stream",
     "text": [
      "the sum of the number is: 273\n"
     ]
    }
   ],
   "source": [
    "data = [55,32,52,21,67,46]\n",
    "sum = 0\n",
    "for i in data:\n",
    "    sum += i\n",
    "print(\"the sum of the number is:\",sum)"
   ]
  },
  {
   "cell_type": "code",
   "execution_count": 50,
   "id": "c7bd2ffd",
   "metadata": {},
   "outputs": [
    {
     "name": "stdout",
     "output_type": "stream",
     "text": [
      "Enter the number: 5\n",
      "4\n"
     ]
    }
   ],
   "source": [
    "number = int(input(\"Enter the number: \"))\n",
    "difference = 0\n",
    "factorial = 1\n",
    "for i in range(1,number):\n",
    "    difference = number-i\n",
    "    factorial = difference*\n",
    "print(factorial)"
   ]
  },
  {
   "cell_type": "code",
   "execution_count": null,
   "id": "7cc2b233",
   "metadata": {},
   "outputs": [],
   "source": []
  }
 ],
 "metadata": {
  "kernelspec": {
   "display_name": "Python 3 (ipykernel)",
   "language": "python",
   "name": "python3"
  },
  "language_info": {
   "codemirror_mode": {
    "name": "ipython",
    "version": 3
   },
   "file_extension": ".py",
   "mimetype": "text/x-python",
   "name": "python",
   "nbconvert_exporter": "python",
   "pygments_lexer": "ipython3",
   "version": "3.11.4"
  }
 },
 "nbformat": 4,
 "nbformat_minor": 5
}
